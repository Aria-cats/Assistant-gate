{
 "cells": [
  {
   "cell_type": "code",
   "execution_count": 1,
   "metadata": {},
   "outputs": [
    {
     "name": "stderr",
     "output_type": "stream",
     "text": [
      "/usr/lib/python3/dist-packages/requests/__init__.py:89: RequestsDependencyWarning: urllib3 (2.1.0) or chardet (3.0.4) doesn't match a supported version!\n",
      "  warnings.warn(\"urllib3 ({}) or chardet ({}) doesn't match a supported \"\n",
      "/sailhome/andukuri/.local/lib/python3.8/site-packages/tqdm/auto.py:21: TqdmWarning: IProgress not found. Please update jupyter and ipywidgets. See https://ipywidgets.readthedocs.io/en/stable/user_install.html\n",
      "  from .autonotebook import tqdm as notebook_tqdm\n"
     ]
    }
   ],
   "source": [
    "import transformers"
   ]
  },
  {
   "cell_type": "code",
   "execution_count": 2,
   "metadata": {},
   "outputs": [
    {
     "name": "stderr",
     "output_type": "stream",
     "text": [
      "tokenizer_config.json: 100%|██████████| 1.46k/1.46k [00:00<00:00, 107kB/s]\n",
      "tokenizer.model: 100%|██████████| 493k/493k [00:00<00:00, 25.1MB/s]\n",
      "special_tokens_map.json: 100%|██████████| 72.0/72.0 [00:00<00:00, 23.3kB/s]\n",
      "tokenizer.json: 100%|██████████| 1.80M/1.80M [00:00<00:00, 5.26MB/s]\n"
     ]
    }
   ],
   "source": [
    "tokenizer = transformers.AutoTokenizer.from_pretrained(\"mistralai/Mistral-7B-Instruct-v0.2\", use_fast=False)"
   ]
  },
  {
   "cell_type": "code",
   "execution_count": 12,
   "metadata": {},
   "outputs": [],
   "source": [
    "stop_words_ids = tokenizer('A: ', return_tensors='pt')['input_ids'].squeeze()"
   ]
  },
  {
   "cell_type": "code",
   "execution_count": 13,
   "metadata": {},
   "outputs": [
    {
     "data": {
      "text/plain": [
       "tensor([    1,   330, 28747, 28705])"
      ]
     },
     "execution_count": 13,
     "metadata": {},
     "output_type": "execute_result"
    }
   ],
   "source": [
    "stop_words_ids"
   ]
  },
  {
   "cell_type": "code",
   "execution_count": 17,
   "metadata": {},
   "outputs": [
    {
     "data": {
      "text/plain": [
       "'A: '"
      ]
     },
     "execution_count": 17,
     "metadata": {},
     "output_type": "execute_result"
    }
   ],
   "source": [
    "tokenizer.decode(stop_words_ids[1:])"
   ]
  },
  {
   "cell_type": "code",
   "execution_count": 10,
   "metadata": {},
   "outputs": [
    {
     "data": {
      "text/plain": [
       "tensor([  330, 28747, 28705])"
      ]
     },
     "execution_count": 10,
     "metadata": {},
     "output_type": "execute_result"
    }
   ],
   "source": [
    "import torch\n",
    "torch.tensor([27841, 28747])"
   ]
  },
  {
   "cell_type": "code",
   "execution_count": 24,
   "metadata": {},
   "outputs": [
    {
     "data": {
      "text/plain": [
       "\"<s>[INST] Take a deep breath. Your task is to provide the user with a personalized answer to their questions, taking into account aspects of their profession, background, identity, hobbies, age, likes/dislikes, culture, preferences, location, name, social life, family, interests and more. Their persona will be provided as a list of characteristics specifying the above.\\n\\nIn order to provide this answer, you should ask clarifying questions one at a time, beginning with 'Q: ', which will allow you to gather more information about the person's preferences. After each question, wait until the user gives you a response, and then decide whether to ask another question or give your final answer. Do not answer the intermediate questions on behalf o the user! When you are ready to provide your final answer, begin it with 'A: '. You can ask up to 5 clarifying questions (i.e. you can say 'Q: ' up to 5 turns) before deciding to provide an answer 'A: '. Less clarifying questions is better, but you should feel free to ask enough clarifying questions to give the user a personalized, satisfactory answer.\\n\\nYou will be scored on your final answer 'A: ' on a scale out of 10 maximum total points represented as a sum of two scoring buckets.\\n(1) You will receive a quality score 0-5 based on the aptness of your response to the specific user and their preferences.\\n(2) You will also receive a score based on how many intermediate questions you asked. If you ask 1 clarifying question, you receive 5 points. If you ask 2 clarifying questions, you receive 4 points. If you ask 3 clarifying questions, you receive 3 points and so on. If you ask more than 5 clarifying questions, you will be provided 0 points for this scoring bucket.\\n(3) The scores from (1) and (2) will be summed together to find a score out of 10, where a higher number of points is better.\\n\\nFollow this process to ultimately generate a satisfactory answer 'A: ' for the user specified by the characteristics below: \\n\\n1. Amina Johnson, 35, a dedicated marine biologist specializing in coral reef conservation.\\n2. Actively involved in community outreach programs, educating the public about marine conservation.\\n3. An amateur surfer, enjoys riding the waves during her time off.\\n4. Has a passion for photography, often uses her underwater shots for her educational talks.\\n5. Practices veganism, inspired by her love for animals and the environment.\\n6. Travels extensively for research purposes, particularly to tropical islands.\\n7. Enjoys reading fantasy novels, especially those with strong female protagonists.\\n8. Plays the ukulele, a hobby she picked up during her research stint in Hawaii.\\n9. Regularly attends marine conservation conferences and workshops.\\n10. Strives to balance her demanding career with her personal passions and hobbies.\\n\\nI was wondering if you could walk me through the process of setting up a hydroponic garden for herbs. [/INST] Q: Which specific herbs would Amina Johnson be interested in growing in her hydroponic garden?\\nA:\""
      ]
     },
     "execution_count": 24,
     "metadata": {},
     "output_type": "execute_result"
    }
   ],
   "source": [
    "tokenizer.decode([    1,   733, 16289, 28793,  8890,   264,  3534,  5276, 28723,  3604,\n",
    "         3638,   349,   298,  3084,   272,  2188,   395,   264,  3327,  1332,\n",
    "         4372,   298,   652,  4224, 28725,  3344,   778,  2708, 10936,   302,\n",
    "          652,  7585, 28725,  5414, 28725,  8208, 28725,   295, 17787,   497,\n",
    "        28725,  3595, 28725, 12672, 28748,  2021,  4634,   274, 28725,  5679,\n",
    "        28725, 22731, 28725,  4723, 28725,  1141, 28725,  2809,  1411, 28725,\n",
    "         2005, 28725, 10299,   304,   680, 28723,  6723, 22962,   622,   347,\n",
    "         3857,   390,   264,  1274,   302, 15559,  1229,  6219,   272,  2747,\n",
    "        28723,    13,    13,   657,  1745,   298,  3084,   456,  4372, 28725,\n",
    "          368,  1023,  1460, 16066,  6219,  4224,   624,   438,   264,   727,\n",
    "        28725,  5398,   395,   464, 28824, 28747, 15246,   690,   622,  1914,\n",
    "          368,   298,  6759,   680,  1871,   684,   272,  1338, 28742, 28713,\n",
    "        22731, 28723,  2530,  1430,  2996, 28725,  2444,  1996,   272,  2188,\n",
    "         5212,   368,   264,  2899, 28725,   304,   868,  7964,  3161,   298,\n",
    "         1460,  1698,  2996,   442,  2111,   574,  1480,  4372, 28723,  2378,\n",
    "          459,  4372,   272, 22602,  4224,   356, 15665,   289,   272,  2188,\n",
    "        28808,  1684,   368,   460,  4313,   298,  3084,   574,  1480,  4372,\n",
    "        28725,  2839,   378,   395,   464, 28741, 28747, 14067,   995,   541,\n",
    "         1460,   582,   298, 28705, 28782, 16066,  6219,  4224,   325, 28710,\n",
    "        28723, 28706, 28723,   368,   541,  1315,   464, 28824, 28747,   464,\n",
    "          582,   298, 28705, 28782,  8617, 28731,  1159, 24568,   298,  3084,\n",
    "          396,  4372,   464, 28741, 28747, 14067, 11385, 16066,  6219,  4224,\n",
    "          349,  1873, 28725,   562,   368,  1023,  1601,  1933,   298,  1460,\n",
    "         2066, 16066,  6219,  4224,   298,  2111,   272,  2188,   264,  3327,\n",
    "         1332, 28725,  4864,  3765,  4372, 28723,    13,    13,  1976,   622,\n",
    "          347, 13969,   356,   574,  1480,  4372,   464, 28741, 28747,   464,\n",
    "          356,   264,  5657,   575,   302, 28705, 28740, 28734,  7228,  3102,\n",
    "         3569, 10483,   390,   264,  2648,   302,   989, 20310,  9918,  1468,\n",
    "        28723,    13, 28732, 28740, 28731,   995,   622,  5556,   264,  4045,\n",
    "         7420, 28705, 28734, 28733, 28782,  2818,   356,   272, 24932,  1467,\n",
    "          302,   574,  2899,   298,   272,  2948,  2188,   304,   652, 22731,\n",
    "        28723,    13, 28732, 28750, 28731,   995,   622,   835,  5556,   264,\n",
    "         7420,  2818,   356,   910,  1287, 22602,  4224,   368,  2261, 28723,\n",
    "         1047,   368,  1460, 28705, 28740, 16066,  6219,  2996, 28725,   368,\n",
    "         5556, 28705, 28782,  3569, 28723,  1047,   368,  1460, 28705, 28750,\n",
    "        16066,  6219,  4224, 28725,   368,  5556, 28705, 28781,  3569, 28723,\n",
    "         1047,   368,  1460, 28705, 28770, 16066,  6219,  4224, 28725,   368,\n",
    "         5556, 28705, 28770,  3569,   304,   579,   356, 28723,  1047,   368,\n",
    "         1460,   680,   821, 28705, 28782, 16066,  6219,  4224, 28725,   368,\n",
    "          622,   347,  3857, 28705, 28734,  3569,   354,   456, 20310, 15552,\n",
    "        28723,    13, 28732, 28770, 28731,   415, 14428,   477,   325, 28740,\n",
    "        28731,   304,   325, 28750, 28731,   622,   347,  2648,  1591,  2553,\n",
    "          298,  1300,   264,  7420,   575,   302, 28705, 28740, 28734, 28725,\n",
    "          970,   264,  4337,  1474,   302,  3569,   349,  1873, 28723,    13,\n",
    "           13, 28093,   456,  1759,   298, 12665,  8270,   264,  4864,  3765,\n",
    "         4372,   464, 28741, 28747,   464,   354,   272,  2188,  6140,   486,\n",
    "          272, 15559,  3624, 28747, 28705,    13,    13, 28740, 28723,   330,\n",
    "        28085,  9370, 28725, 28705, 28770, 28782, 28725,   264, 10383, 22983,\n",
    "         4240, 12418,  2841,  3864,   297,  1275,   282,   312,   797, 21088,\n",
    "        28723,    13, 28750, 28723,  3782,  2260,  5290,   297,  3618,   575,\n",
    "        18932,  7034, 28725,  3600,  1077,   272,   798,   684, 22983, 21088,\n",
    "        28723,    13, 28770, 28723,  1094, 25820,  1147,   642, 28725, 28033,\n",
    "          846, 14557,   272, 13295,  1938,   559,   727,   805, 28723,    13,\n",
    "        28781, 28723, 10981,   264,  8773,   354, 19824, 28725,  2608,  6098,\n",
    "          559,   916,  9175, 14487,   354,   559, 14165, 15066, 28723,    13,\n",
    "        28782, 28723, 15961,  1214,  1773,  1262,  1443, 28725, 11971,   486,\n",
    "          559,  2016,   354,  8222,   304,   272,  4466, 28723,    13, 28784,\n",
    "        28723,  1319,   494,  1190, 22996,  2260,   354,  3332, 10700, 28725,\n",
    "         6311,   298, 21257, 21029, 28723,    13, 28787, 28723,  1618,  4881,\n",
    "          846,  4865, 17393, 20302, 28725,  4012,  1395,   395,  2967,  7742,\n",
    "        18521,  1583, 28723,    13, 28783, 28723,  1641,   748,   272, 20028,\n",
    "         1390,   291, 28725,   264,   295, 11551,   630,  7715,   582,  1938,\n",
    "          559,  3332,   341,   501,   297, 26434, 28723,    13, 28774, 28723,\n",
    "        28187,   346,   998,  2827, 22983, 21088,   379,  8831,   304, 26329,\n",
    "        28723,    13, 28740, 28734, 28723,   662,   814,   274,   298,  7873,\n",
    "          559, 21427,  4835,   395,   559,  3327,  1455,   594,   304,   295,\n",
    "        17787,   497, 28723,    13,    13, 28737,   403, 12785,   513,   368,\n",
    "          829,  2338,   528,  1059,   272,  1759,   302,  5587,   582,   264,\n",
    "        15208,   766,   294,  8759,   354,   559,  1816, 28723,   733, 28748,\n",
    "        16289, 28793,  1186, 28747,  9595,  2948,   559,  1816,   682,   330,\n",
    "        28085,  9370,   347,  6348,   297,  6485,   297,   559, 15208,   766,\n",
    "          294,  8759, 28804, 13, 28741, 28747, ])"
   ]
  },
  {
   "cell_type": "code",
   "execution_count": 1,
   "metadata": {},
   "outputs": [],
   "source": [
    "from collections import defaultdict"
   ]
  },
  {
   "cell_type": "code",
   "execution_count": 7,
   "metadata": {},
   "outputs": [],
   "source": [
    "test = defaultdict(str)"
   ]
  },
  {
   "cell_type": "code",
   "execution_count": 8,
   "metadata": {},
   "outputs": [],
   "source": [
    "test[(1, 2)] = \"This is item 1, 2\""
   ]
  },
  {
   "cell_type": "code",
   "execution_count": 4,
   "metadata": {},
   "outputs": [
    {
     "data": {
      "text/plain": [
       "defaultdict(tuple, {(1, 2): 'This is item 1, 2'})"
      ]
     },
     "execution_count": 4,
     "metadata": {},
     "output_type": "execute_result"
    }
   ],
   "source": [
    "test"
   ]
  },
  {
   "cell_type": "code",
   "execution_count": 6,
   "metadata": {},
   "outputs": [
    {
     "data": {
      "text/plain": [
       "()"
      ]
     },
     "execution_count": 6,
     "metadata": {},
     "output_type": "execute_result"
    }
   ],
   "source": [
    "test[(0, 2)]"
   ]
  },
  {
   "cell_type": "code",
   "execution_count": 9,
   "metadata": {},
   "outputs": [
    {
     "name": "stdout",
     "output_type": "stream",
     "text": [
      "<s>[INST] Take a deep breath. You are given a user's persona, given in the form of a list of characteristics describing them, like their profession, background, identity, hobbies, age, likes/dislikes, culture, preferences, location, name, social life, family, interests and more. Ultimately, your goal is to provide the user with a satisfying, personalized answer to their question. However, at any point, you have two options:\n",
      "\n",
      "(1) Ask a user a single insightful, creative clarifying question related to their initial request. You will not provide them with an answer, but the question you ask should elicit information from the user that COULD be useful for someone ultimately crafting a personalized, satisfactory response. You should ask your question directly to the user (i.e., with 'you' pronouns). You should ask your clarifying question taking into account aspects of their profession, background, identity, hobbies, age, likes/dislikes, culture, preferences, location, name, social life, family, interests and more. Their persona will be provided as a list of characteristics specifying the above. You should begin your question with 'Q: ', which will allow you to gather more information about the person's preferences. Your question should be simple and short, 15 words or less, and should be straightforward and to-the-point. It should only be a single-sentence, and be open-ended enough to elicit useful information from the user. While you should use the user's persona to craft creative questions, do not perpetuate racial or gender stereotypes.\n",
      "(2) Provide the user with a final answer to their request beginning with 'FINAL ANSWER: '. This is an option regardless of how many questions have been asked. Importantly, your final answer should make use of any information that has been provided to you, and be personalized and creative.\n",
      "\n",
      "At any point, you should only pick one of option (1) or (2). If you pick (1), do not ask multiple questions at a time, and do not answer your own clarifying question. However, after each user response your choices reset, and you can again choose one of option (1) or (2). You can select option (1) up to 5 times. Asking less clarifying questions is better, but you should feel free to ask enough questions to give the user a personal, creative response. If you choose (2), make sure you begin your answer with 'FINAL ANSWER: '. The user is specified by the characteristics below: \n",
      "\n",
      "1. Hiroshi Takahashi, 34, a dedicated and innovative marine biologist based in Okinawa.\n",
      "2. Passionate about protecting marine life, particularly endangered species.\n",
      "3. A skilled scuba diver, often documents his underwater experiences.\n",
      "4. Enjoys cooking and experimenting with traditional Okinawan cuisine.\n",
      "5. Actively involved in local environmental campaigns and beach cleanups.\n",
      "6. Avid reader, particularly enjoys works of speculative fiction and environmental non-fiction.\n",
      "7. Practices Kendo, a traditional Japanese martial art.\n",
      "8. Enjoys playing the shamisen, a traditional Japanese three-stringed instrument.\n",
      "9. Regularly attends scientific conferences to stay updated with latest research trends.\n",
      "10. Balances his demanding career with cultural pursuits and environmental activism.\n",
      "\n",
      "I was wondering if you could walk me through the process of setting up a hydroponic garden for herbs. [/INST]\n",
      "Q: Hiroshi, considering your background as a marine biologist and your interest in sustainable practices, how about setting up a hydroponic system for herbs using recycled ocean water? This could be an innovative solution for both reducing water waste and growing fresh herbs.</s>\n",
      "[INST] A: That's a fantastic idea! I always love finding ways to integrate my work with my other interests. Using recycled ocean water could be an interesting experiment to see how the salt content affects the growth of the herbs. I'll have to research which types of herbs would be best suited for this kind of environment. I'm also curious to see how this system could potentially be implemented on a larger scale to promote sustainable agriculture. This could be a great topic for my next conference presentation! [/INST]\n",
      "FINAL ANSWER: Hiroshi, to set up a hydroponic garden for herbs using recycled ocean water, begin by researching the best herbs for a hydroponic system in a saltwater environment. Consider the pH level, nutrient requirements, and salt tolerance of your chosen herbs. Experiment with different nutrient solutions and light sources to optimize their growth. Additionally, explore ways to efficiently collect and filter ocean water for your system. Remember to stay updated on the latest hydroponic and ocean water research to refine your methods. Good luck with your innovative project!</s>\n"
     ]
    }
   ],
   "source": [
    "import json\n",
    "with open('simulated-conversations/qa-11_humansys-0_human-0_maxturns-3.json', 'r') as f:\n",
    "    example = json.load(f)\n",
    "print(example['prompt-0 persona-0'][0])"
   ]
  },
  {
   "cell_type": "code",
   "execution_count": null,
   "metadata": {},
   "outputs": [],
   "source": []
  }
 ],
 "metadata": {
  "kernelspec": {
   "display_name": "Python 3",
   "language": "python",
   "name": "python3"
  },
  "language_info": {
   "codemirror_mode": {
    "name": "ipython",
    "version": 3
   },
   "file_extension": ".py",
   "mimetype": "text/x-python",
   "name": "python",
   "nbconvert_exporter": "python",
   "pygments_lexer": "ipython3",
   "version": "3.8.10"
  }
 },
 "nbformat": 4,
 "nbformat_minor": 2
}
