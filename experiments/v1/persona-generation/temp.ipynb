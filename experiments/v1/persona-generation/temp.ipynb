{
 "cells": [
  {
   "cell_type": "code",
   "execution_count": 1,
   "metadata": {},
   "outputs": [
    {
     "name": "stdout",
     "output_type": "stream",
     "text": [
      "1. Maya Patel, 42, a pediatrician living in Houston, Texas.\n",
      "2. Passionate about promoting child health and nutrition in her community.\n",
      "3. A dedicated yoga practitioner and instructor on weekends.\n",
      "4. Enjoys mystery novels, with Agatha Christie being her favorite author.\n",
      "5. Avid gardener who grows her own vegetables and herbs.\n",
      "6. Fluent in Gujarati and Spanish, often volunteers as a translator at local clinics.\n",
      "7. Enjoys experimenting with vegan and gluten-free baking.\n",
      "8. Loves attending live music concerts, especially blues and country music.\n",
      "9. Actively involved in local school board, promoting health education.\n",
      "10. Balances her medical career with her love for yoga, gardening, and community service.\n"
     ]
    }
   ],
   "source": [
    "print(\"1. Maya Patel, 42, a pediatrician living in Houston, Texas.\\n2. Passionate about promoting child health and nutrition in her community.\\n3. A dedicated yoga practitioner and instructor on weekends.\\n4. Enjoys mystery novels, with Agatha Christie being her favorite author.\\n5. Avid gardener who grows her own vegetables and herbs.\\n6. Fluent in Gujarati and Spanish, often volunteers as a translator at local clinics.\\n7. Enjoys experimenting with vegan and gluten-free baking.\\n8. Loves attending live music concerts, especially blues and country music.\\n9. Actively involved in local school board, promoting health education.\\n10. Balances her medical career with her love for yoga, gardening, and community service.\")"
   ]
  },
  {
   "cell_type": "code",
   "execution_count": null,
   "metadata": {},
   "outputs": [],
   "source": []
  }
 ],
 "metadata": {
  "kernelspec": {
   "display_name": "Python 3",
   "language": "python",
   "name": "python3"
  },
  "language_info": {
   "codemirror_mode": {
    "name": "ipython",
    "version": 3
   },
   "file_extension": ".py",
   "mimetype": "text/x-python",
   "name": "python",
   "nbconvert_exporter": "python",
   "pygments_lexer": "ipython3",
   "version": "3.8.10"
  }
 },
 "nbformat": 4,
 "nbformat_minor": 2
}
