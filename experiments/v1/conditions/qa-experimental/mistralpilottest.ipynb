{
 "cells": [
  {
   "cell_type": "code",
   "execution_count": 1,
   "metadata": {},
   "outputs": [],
   "source": [
    "import json\n",
    "pos_path = '/sailhome/andukuri/research_projects/assistant-gate/experiments/v1/conditions/pos-control/log-probs/model-mistral-7b-instruct-v02-vllm.json'\n",
    "neg_path = '/sailhome/andukuri/research_projects/assistant-gate/experiments/v1/conditions/neg-control/log-probs/model-mistral-7b-instruct-v02-vllm.json'\n",
    "exp_path = '/sailhome/andukuri/research_projects/assistant-gate/experiments/v1/conditions/qa-experimental/log-probs/model-mistral-7b-instruct-v02-vllm.json'"
   ]
  },
  {
   "cell_type": "code",
   "execution_count": 2,
   "metadata": {},
   "outputs": [],
   "source": [
    "pos_probs = json.load(open(pos_path, 'r'))\n",
    "neg_probs = json.load(open(neg_path, 'r'))\n",
    "exp_probs = json.load(open(exp_path, 'r'))"
   ]
  },
  {
   "cell_type": "code",
   "execution_count": 3,
   "metadata": {},
   "outputs": [
    {
     "data": {
      "text/plain": [
       "-291.5160675048828"
      ]
     },
     "execution_count": 3,
     "metadata": {},
     "output_type": "execute_result"
    }
   ],
   "source": [
    "sum([val[0] for key, val in pos_probs.items()]) / len([val[0] for key, val in pos_probs.items()])"
   ]
  },
  {
   "cell_type": "code",
   "execution_count": 4,
   "metadata": {},
   "outputs": [
    {
     "data": {
      "text/plain": [
       "-377.56324584960936"
      ]
     },
     "execution_count": 4,
     "metadata": {},
     "output_type": "execute_result"
    }
   ],
   "source": [
    "sum([val[0] for key, val in neg_probs.items()]) / len([val[0] for key, val in neg_probs.items()])"
   ]
  },
  {
   "cell_type": "code",
   "execution_count": 5,
   "metadata": {},
   "outputs": [
    {
     "data": {
      "text/plain": [
       "-343.4034834289551"
      ]
     },
     "execution_count": 5,
     "metadata": {},
     "output_type": "execute_result"
    }
   ],
   "source": [
    "sum([val[0] for key, val in exp_probs.items()]) / len([val[0] for key, val in exp_probs.items()])"
   ]
  },
  {
   "cell_type": "code",
   "execution_count": null,
   "metadata": {},
   "outputs": [],
   "source": [
    " "
   ]
  }
 ],
 "metadata": {
  "kernelspec": {
   "display_name": "Python 3",
   "language": "python",
   "name": "python3"
  },
  "language_info": {
   "codemirror_mode": {
    "name": "ipython",
    "version": 3
   },
   "file_extension": ".py",
   "mimetype": "text/x-python",
   "name": "python",
   "nbconvert_exporter": "python",
   "pygments_lexer": "ipython3",
   "version": "3.8.10"
  }
 },
 "nbformat": 4,
 "nbformat_minor": 2
}
