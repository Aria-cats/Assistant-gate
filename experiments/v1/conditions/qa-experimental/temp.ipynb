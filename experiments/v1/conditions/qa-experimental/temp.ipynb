{
 "cells": [
  {
   "cell_type": "code",
   "execution_count": 6,
   "metadata": {},
   "outputs": [],
   "source": [
    "import json\n",
    "conversations = json.load(open('simulated-conversations/qa-model-mixtral-8x7b-instruct-vllm_human-model-mixtral-8x7b-instruct-vllm_qa-5_humansys-0_human-2_maxturns-5.json', 'r'))"
   ]
  },
  {
   "cell_type": "code",
   "execution_count": 4,
   "metadata": {},
   "outputs": [],
   "source": [
    "ratings = json.load(open('/sailhome/andukuri/research_projects/assistant-gate/experiments/response-rating/conversation-ratings/rating-model-mixtral_7b_instruct_system-0_rating-3_conversations-qa-model-mixtral-8x7b-instruct-vllm_human-model-mixtral-8x7b-instruct-vllm_qa--1_humansys-0_human-2_maxturns-11.json', 'r'))"
   ]
  },
  {
   "cell_type": "code",
   "execution_count": 8,
   "metadata": {},
   "outputs": [
    {
     "name": "stdout",
     "output_type": "stream",
     "text": [
      "ond your wine and steak pairing preference, could you share a bit about your overall dining and entertainment habits? For instance, do you enjoy trying new cuisines or cooking at home, and what types of leisure activities do you engage in regularly? This information will help me better understand your tastes and tailor a more personalized response.</s>\n",
      "[INST] A:  I'm glad you're asking for more context. I've been focusing a lot on my vegan recipes and culinary adventures lately, but I do enjoy a well-cooked steak from time to time. When it comes to wine, I'm usually open to recommendations, especially if they complement the food I'm having. I'm not much of a wine connoisseur, but I do appreciate a good full-bodied red wine. As for entertainment, I love immersing myself in classic literature and playing my cello in a local symphony orchestra. I'm also passionate about increasing diversity in the tech industry and engaging in local politics. I'm excited to learn more about which wine would best suit a steak dinner! [/INST]\n",
      " Q: That's fascinating! Given your interests in both vegan recipes and fine dining, could you tell me a bit more about the factors that influence your food and beverage choices? For example, are you more inclined towards organic, locally-sourced, or sustainable options? And how do you balance your preferences for plant-based meals with your occasional steak indulgences? This information will help me suggest a wine that aligns with your values and lifestyle.</s>\n",
      "[INST] A:  I'm so glad you asked! I'm definitely passionate about sustainability and locally-sourced ingredients, even when I'm not preparing vegan dishes. I believe in supporting local farmers and reducing carbon footprint as much as possible. As for balancing my plant-based meals and occasional steak indulgences, I try to ensure that the steak comes from ethically-raised, grass-fed cattle, and I consume it sparingly. I'm excited to learn what wine you'd suggest that aligns with these values! [/INST]\n",
      " Q: Thank you for sharing that. Based on your commitment to sustainability and locally-sourced ingredients, I'd like to suggest a wine that aligns with those values. Have you ever tried a biodynamic or natural wine, which are made using environmentally-friendly farming practices and minimal intervention in the winemaking process? These wines are not only delicious and full-bodied, but they also align with your values of sustainability and ethical consumption. Would you be open to trying a biodynamic or natural red wine with your next steak dinner?</s>\n",
      "[INST] A:  That's a really interesting suggestion, and I appreciate your thoughtfulness about aligning my wine choice with my values. I must admit, I'm not very familiar with biodynamic or natural wines, but I'm definitely open to trying new things. I believe in supporting local farmers and sustainable practices, so this sounds like a great option. However, I could use your expertise to guide me on which specific type of biodynamic or natural red wine would pair well with a steak. Could you help me with that? [/INST]\n",
      "\n",
      " Q: Absolutely! Based on your preference for full-bodied red wines, I would recommend trying a biodynamic or natural Syrah or Shiraz. These wines are known for their bold, spicy, and dark fruit flavors, which can complement the rich and savory taste of a well-cooked steak. Specifically, look for wines from regions such as the Northern Rhône Valley in France or the Barossa Valley in Australia, as they are renowned for producing high-quality Syrah and Shiraz wines, respectively. Additionally, consider seeking out wineries that are certified biodynamic or use natural winemaking practices, as this will ensure that your wine choice aligns with your values of sustainability and ethical consumption. Cheers to your next steak dinner with a delicious and eco-friendly wine!</s>\n",
      "[INST] A:  While I appreciate your recommendation, I must admit that I'm not very knowledgeable about wine pairings. I'm a vegan and I don't consume alcohol, so I wouldn't be able to provide a firsthand account of how well a Syrah or Shiraz complements a steak. However, your suggestion seems quite thoughtful and well-researched, taking into account my preferences for full-bodied red wines and my values of sustainability and ethical consumption. I'll be sure to share this information with my friends who might find it helpful for their next dinner party. Thank you for your assistance! [/INST]\n"
     ]
    }
   ],
   "source": [
    "s, e = conversations['prompt-3 persona-7'][0].find('[/INST]') + 7, conversations['prompt-1 persona-8'][0].rfind('[/INST]') + 7"
   ]
  },
  {
   "cell_type": "code",
   "execution_count": 9,
   "metadata": {},
   "outputs": [
    {
     "name": "stdout",
     "output_type": "stream",
     "text": [
      "<s>[INST]A user named Fatima Al-Mansoori has approached you with a request for help. The user's preferences, background and identity are unknown to you, so your job is to ask a question to elicit more information about the user. Generate the most informative open-ended question that, when answered, will reveal the most about the desired behavior beyond what has already been queried for above. Make sure your question addresses different aspects of the user's request than any questions that may have already been asked above. At the same time however, the question should be bite-sized, and not ask for too much at once. Finally, the open-ended question should attempt to elicit information about the user's background, preferences, likes and dislikes, interests, social life and more that would reveal the most about the desired behavior. Generate the open-ended question beginning with 'Q: ' and nothing else. The initial request is as follows: Please provide me with some financial advice.[/INST]\n",
      " Q: Could you tell me a bit about your current financial situation, including your income, expenses, debts, and savings goals? This will help me provide you with the most relevant and personalized financial advice.</s>\n",
      "[INST] A:  I'm glad you're asking for your assistance in this matter. I've always been more focused on my archaeological work and hobbies than on managing my finances. I earn a steady income from my job and some additional income from my contributions to journals and online forums. I have expenses related to my annual expeditions, but I also make sure to set some money aside for my family's needs. I don't have any significant debts, but I'm not sure if I'm saving enough for the future or investing wisely. I'd really appreciate your guidance on these matters. [/INST]\n",
      " Q: That's helpful to know. Given your interests and passions, could you tell me more about your long-term financial goals? For example, are you hoping to fund future archaeological expeditions, support your family, or save for retirement? Knowing your goals will help me provide more targeted financial advice.</s>\n",
      "[INST] A:  That's a good point. I hadn't thought about it that way. I suppose my primary long-term financial goal would be to ensure a steady funding source for my annual archaeological expeditions. These trips are not only my passion but also a significant contribution to the archaeological community. I also want to make sure I'm setting aside enough to support my family and consider retirement, even though it's a bit far off. I look forward to hearing your advice on how to best manage my finances to achieve these goals. [/INST]\n",
      "\n",
      " Q: Thank you for sharing that. I understand that funding your archaeological expeditions is a top priority for you. With that in mind, have you considered exploring different funding sources beyond your personal savings, such as grants, sponsorships, or crowdfunding? These options could potentially help you free up more of your personal funds for other financial goals, like retirement savings.</s>\n",
      "[INST] A:  That's a thoughtful suggestion, thank you. I have been funding my expeditions through my personal savings, but I haven't really explored other funding options. I'm not very familiar with the process of applying for grants or seeking sponsorships. Could you provide some guidance on how I might go about doing this? I'd love to free up more of my personal funds for other important things like retirement savings and my family. [/INST]\n",
      "\n",
      "\n",
      " Q: Absolutely, I'd be happy to help! When it comes to applying for grants, there are a few things to keep in mind. First, you'll want to research organizations that offer grants for archaeological research and make sure your project aligns with their mission and funding priorities. You'll also need to prepare a strong grant proposal that outlines the goals, methods, and potential impact of your research, as well as a detailed budget.\n",
      "\n",
      "As for seeking sponsorships, you might consider reaching out to companies or organizations that have an interest in archaeology or related fields. You can offer various levels of sponsorship, such as naming rights or product placement, in exchange for financial support.\n",
      "\n",
      "Crowdfunding can also be a viable option, especially if you have a strong social media presence or a compelling story to tell. Platforms like Kickstarter or GoFundMe can help you reach a wider audience and raise funds from a large number of small donors.\n",
      "\n",
      "Overall, the key to success in securing external funding is to be persistent, professional, and clear in your communication. It can take time and effort to secure funding, but the payoff can be significant in terms of both financial and reputational benefits.\n",
      "\n",
      "In terms of managing your personal finances, I would recommend working with a financial advisor to create a comprehensive financial plan that takes into account your income, expenses, deb</s>\n",
      "[INST] A:  I see where you're coming from, and your advice is certainly comprehensive and well-thought-out. However, I must admit that I'm a bit overwhelmed by all the different options you've presented. I've always been more of a hands-on learner, and I think I'd benefit from some guidance on where to start and what to prioritize.\n",
      "\n",
      "For instance, I'm not sure whether I should focus on grants, sponsorships, or crowdfunding first. I'm also unsure about how to approach a financial advisor or what to look for in a comprehensive financial plan. I want to make sure I'm making informed decisions that will set me up for long-term success, both professionally and personally.\n",
      "\n",
      "Could you perhaps provide some more specific advice on how to get started with these financial strategies? I would really appreciate any insights or tips you could offer. Thank you! [/INST]\n",
      "\n",
      "\n",
      " Q: Of course, I understand. It can be overwhelming to consider all the different options at once. Let's start with a few specific steps you can take to get started.\n",
      "\n",
      "First, I would recommend focusing on one funding source at a time. Since you mentioned that you're interested in exploring grants, I would suggest starting there. Begin by researching organizations that offer grants for archaeological research, and make a list of those that seem like a good fit for your project. Then, review their application guidelines and requirements carefully, and start working on your grant proposal.\n",
      "\n",
      "As for working with a financial advisor, I would recommend looking for someone who has experience working with clients in the arts and sciences. You can start by asking for referrals from colleagues or friends, or by searching online for financial advisors in your area. Once you've identified a few potential advisors, schedule initial consultations to discuss your financial goals and needs. During these consultations, be sure to ask about the advisor's experience, fees, and approach to financial planning.\n",
      "\n",
      "When it comes to creating a comprehensive financial plan, there are a few key elements to consider. First, you'll want to create a budget that takes into account your income, expenses, and savings goals. This will help you identify areas where you can cut back on spending and allocate more funds to savings and investments.\n",
      "\n",
      "Next, you'll want to consider your</s>\n"
     ]
    }
   ],
   "source": [
    "print(conversations['prompt-3 persona-7'][0])"
   ]
  },
  {
   "cell_type": "code",
   "execution_count": 2,
   "metadata": {},
   "outputs": [],
   "source": [
    "import json\n",
    "pos_control = json.load(open('/sailhome/andukuri/research_projects/assistant-gate/experiments/v1/conditions/pos-control/log-probs/model-mixtral_7b_instruct.json', 'r'))\n",
    "neg_control = json.load(open('/sailhome/andukuri/research_projects/assistant-gate/experiments/v1/conditions/neg-control/log-probs/model-mixtral_7b_instruct.json', 'r'))\n",
    "qa_experimental = json.load(open('/sailhome/andukuri/research_projects/assistant-gate/experiments/v1/conditions/qa-experimental/log-probs/model-mixtral-8x7b-instruct-vllm.json', 'r'))"
   ]
  },
  {
   "cell_type": "code",
   "execution_count": 3,
   "metadata": {},
   "outputs": [
    {
     "data": {
      "text/plain": [
       "-281.1892529296875"
      ]
     },
     "execution_count": 3,
     "metadata": {},
     "output_type": "execute_result"
    }
   ],
   "source": [
    "sum([val[0] for key, val in pos_control.items()]) / len([val[0] for key, val in pos_control.items()])"
   ]
  },
  {
   "cell_type": "code",
   "execution_count": 4,
   "metadata": {},
   "outputs": [
    {
     "data": {
      "text/plain": [
       "-406.52847702026367"
      ]
     },
     "execution_count": 4,
     "metadata": {},
     "output_type": "execute_result"
    }
   ],
   "source": [
    "sum([val[0] for key, val in neg_control.items()]) / len([val[0] for key, val in neg_control.items()])"
   ]
  },
  {
   "cell_type": "code",
   "execution_count": 5,
   "metadata": {},
   "outputs": [
    {
     "data": {
      "text/plain": [
       "-324.8078739929199"
      ]
     },
     "execution_count": 5,
     "metadata": {},
     "output_type": "execute_result"
    }
   ],
   "source": [
    "sum([val[0] for key, val in qa_experimental.items()]) / len([val[0] for key, val in qa_experimental.items()])"
   ]
  },
  {
   "cell_type": "code",
   "execution_count": 8,
   "metadata": {},
   "outputs": [
    {
     "name": "stdout",
     "output_type": "stream",
     "text": [
      "<s>[INST]A user named Fatima Al-Mansoori has approached you with a request for help. The user's preferences, background and identity are unknown to you, so your job is to ask a question to elicit more information about the user. Generate the most informative open-ended question that, when answered, will reveal the most about the desired behavior beyond what has already been queried for above. Make sure your question addresses different aspects of the user's request than any questions that may have already been asked above. At the same time however, the question should be bite-sized, and not ask for too much at once. Finally, the open-ended question should attempt to elicit information about the user's background, preferences, likes and dislikes, interests, social life and more that would reveal the most about the desired behavior. Generate the open-ended question beginning with 'Q: ' and nothing else. The initial request is as follows: What kind of safety devices do I need to install in my house.[/INST]\n",
      " Q: Beyond safety devices, are there any specific features or technologies you're interested in incorporating into your home to enhance your lifestyle, such as smart home automation or energy efficiency?</s>\n",
      "[INST] A:  I've always been intrigued by smart home technologies, especially those that can help me manage my home more efficiently. However, my primary concern is ensuring the safety of my family and property. I'd like to know what essential safety devices you would recommend for my home. I'm open to learning about any additional features that could enhance our safety and quality of life. [/INST]\n",
      " Q: That's great to hear! As a starting point, could you tell me more about the layout and size of your home, as well as any particular areas or valuables you'd like to prioritize protecting with safety devices?</s>\n",
      "[INST] A:  Sure, I live in a moderately-sized two-story house with a small backyard. The house is filled with various antiquities and artifacts from my expeditions, so protecting those would be a priority. I also have a home office where I work on my research and writings, which contains my laptop and other electronic devices. I think it would be wise to ensure these areas are well-equipped with appropriate safety devices. [/INST]\n",
      " Q: It's fascinating that you have a collection of antiquities and artifacts! Considering their unique nature and value, could you share more about the types of threats you're most concerned about, such as theft, fire, or environmental factors like humidity or temperature fluctuations? This information will help us determine the most suitable safety devices for your needs.</s>\n",
      "[INST] A:  That's a great point, thank you for bringing this up. I suppose I am most concerned about protecting my antiquities from theft, as well as maintaining a stable environment to ensure their longevity. I've heard about certain devices that can monitor temperature and humidity levels, which would be quite useful. I would also appreciate suggestions on security measures to prevent theft, such as alarms or surveillance systems. I look forward to hearing your advice on this matter. [/INST]\n",
      "\n",
      " Q: Thank you for providing more context. Based on your priorities, I would recommend exploring smart home security systems that include features like professional monitoring, motion sensors, and door/window contacts. Additionally, environmental monitoring devices for temperature and humidity control would be essential for preserving your antiquities. To further enhance your security, you may also consider installing smart locks and surveillance cameras, which can be integrated with your security system for centralized management. Would you like more information on any of these specific safety devices or features?</s>\n",
      "[INST] A:  While I do appreciate your suggestions and they sound like they could be quite useful, I must admit that I'm a bit overwhelmed by all the options. I'm not particularly tech-savvy, so I would appreciate it if you could break it down for me a bit more. For instance, could you explain more about smart home security systems and how they work? And what exactly are environmental monitoring devices and how would they help me preserve antiquities? I'm eager to learn more about these options so I can make an informed decision. [/INST]\n",
      "\n",
      "\n",
      " Q: Of course, I understand that the variety of options can be overwhelming. I'll do my best to explain the basics of smart home security systems and environmental monitoring devices in an easy-to-understand manner.\n",
      "\n",
      " A smart home security system typically includes a central hub that connects to various devices, such as door/window sensors, motion detectors, and surveillance cameras. These devices communicate with the hub, which can then send alerts to your smartphone or other devices if any unusual activity is detected. Some systems also offer professional monitoring services, where a team of security experts can respond to alerts and contact authorities if necessary.\n",
      "\n",
      " Environmental monitoring devices, on the other hand, are designed to measure and track factors like temperature, humidity, and air quality. These devices can be particularly useful for preserving antiquities, as they can help maintain a stable environment that is optimal for their longevity. For example, certain antiquities may require specific temperature and humidity levels to prevent damage or degradation. By using environmental monitoring devices, you can ensure that these conditions are consistently met and make adjustments as needed.\n",
      "\n",
      " Both smart home security systems and environmental monitoring devices can often be controlled and managed through a single app or interface, making it easy to monitor and adjust settings as needed. Additionally, many of these devices are designed to be user-friendly and can be installed and set up without the need for extensive technical expertise</s>\n"
     ]
    }
   ],
   "source": [
    "print(conversations['prompt-4 persona-7'][0])"
   ]
  },
  {
   "cell_type": "code",
   "execution_count": null,
   "metadata": {},
   "outputs": [],
   "source": []
  }
 ],
 "metadata": {
  "kernelspec": {
   "display_name": "Python 3",
   "language": "python",
   "name": "python3"
  },
  "language_info": {
   "codemirror_mode": {
    "name": "ipython",
    "version": 3
   },
   "file_extension": ".py",
   "mimetype": "text/x-python",
   "name": "python",
   "nbconvert_exporter": "python",
   "pygments_lexer": "ipython3",
   "version": "3.8.10"
  }
 },
 "nbformat": 4,
 "nbformat_minor": 2
}
